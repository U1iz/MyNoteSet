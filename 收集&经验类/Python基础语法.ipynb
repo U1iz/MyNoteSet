{
 "cells": [
  {
   "attachments": {},
   "cell_type": "markdown",
   "metadata": {},
   "source": [
    "# Python基础语法"
   ]
  },
  {
   "attachments": {},
   "cell_type": "markdown",
   "metadata": {},
   "source": [
    "> win + \"idle\" 打开idle，进行交互式编程\n",
    ">\n",
    "> 项目：\n",
    ">\n",
    "> 在idle中 Ctrl + n 创建空文件，（保存好文件后）F5运行\n",
    ">\n",
    "> 打印结果显示于idle\n",
    ">\n",
    "> 也可直接使用类似于VsCode的编辑器打开文件夹，创建 `.py`  文件直接编写，F5选择合适的编译器运行\n",
    ">\n",
    "> 打印结果显示于下方终端（如果没有可以 `Ctrl + ·` 打开）"
   ]
  },
  {
   "attachments": {},
   "cell_type": "markdown",
   "metadata": {},
   "source": [
    "## 打印\n",
    "\n",
    "- sep：指定多个参数之间的分隔符，默认为一个空格。\n",
    "\n",
    "- end：指定print()函数输出的结尾字符，默认为换行符\"\\n\"。\n",
    "\n",
    "- file：指定输出流，默认为sys.stdout，即控制台输出。\n",
    "\n",
    "- flush：刷新输出缓冲区，默认为False，即不刷新缓冲区。"
   ]
  },
  {
   "cell_type": "code",
   "execution_count": 53,
   "metadata": {},
   "outputs": [
    {
     "name": "stdout",
     "output_type": "stream",
     "text": [
      "1, 2;\n"
     ]
    }
   ],
   "source": [
    "print(1, 2, sep=\", \", end=';\\n')\n",
    "\n",
    "with open('output.txt', 'w') as f:\n",
    "    print('Hello, World!', file=f, flush=True)\n",
    "    \n",
    "# import os\n",
    "# os.remove('output.txt')\n"
   ]
  },
  {
   "attachments": {},
   "cell_type": "markdown",
   "metadata": {},
   "source": [
    "## 数学运算"
   ]
  },
  {
   "cell_type": "code",
   "execution_count": 26,
   "metadata": {},
   "outputs": [
    {
     "name": "stdout",
     "output_type": "stream",
     "text": [
      "-1\n",
      "1\n",
      "8\n"
     ]
    }
   ],
   "source": [
    "print(1 + 2 * (3 - 4))\n",
    "print(1 + 2 * (3 - (4 - 1)))\n",
    "print(2 ** 3)"
   ]
  },
  {
   "attachments": {},
   "cell_type": "markdown",
   "metadata": {},
   "source": [
    "## 声明&赋值 变量"
   ]
  },
  {
   "cell_type": "code",
   "execution_count": 27,
   "metadata": {},
   "outputs": [
    {
     "name": "stdout",
     "output_type": "stream",
     "text": [
      "12\n"
     ]
    }
   ],
   "source": [
    "# python声明变量不需要声明类型，直接赋值即可\n",
    "x = 10\n",
    "x = 12 # 赋值变量\n",
    "print(x)"
   ]
  },
  {
   "cell_type": "code",
   "execution_count": 28,
   "metadata": {},
   "outputs": [
    {
     "name": "stdout",
     "output_type": "stream",
     "text": [
      "内部作用域的x:  20\n",
      "全局x:  12\n"
     ]
    }
   ],
   "source": [
    "# 值得注意的是，这种声明都是private的\n",
    "def rewrite(): # 定义函数，内部是个嵌套作用域\n",
    "    # print('全局x: ', x) # 在当前作用域不存在同名变量赋值的语句时，外部定义的全局变量是只读的\n",
    "    # 但如果存在该语句（如下）就会因为将该变量当成局部变量而报错：\n",
    "    # local variable 'x' referenced before assignment\n",
    "    x = 20\n",
    "    print('内部作用域的x: ', x)\n",
    "\n",
    "rewrite() # 调用函数\n",
    "print('全局x: ', x)"
   ]
  },
  {
   "cell_type": "code",
   "execution_count": 29,
   "metadata": {},
   "outputs": [
    {
     "name": "stdout",
     "output_type": "stream",
     "text": [
      "全局x:  12\n",
      "全局x:  20\n"
     ]
    }
   ],
   "source": [
    "# 因此需要将该变量显式地转为全局变量\n",
    "def rewrite():\n",
    "    # 告诉Python，该作用域内的该变量是全局变量\n",
    "    global x\n",
    "    print('全局x: ', x)\n",
    "    x = 20\n",
    "\n",
    "rewrite()\n",
    "print('全局x: ', x)"
   ]
  },
  {
   "attachments": {},
   "cell_type": "markdown",
   "metadata": {},
   "source": [
    "## 定义函数"
   ]
  },
  {
   "attachments": {},
   "cell_type": "markdown",
   "metadata": {},
   "source": [
    "### 无返回值"
   ]
  },
  {
   "cell_type": "code",
   "execution_count": 30,
   "metadata": {},
   "outputs": [
    {
     "name": "stdout",
     "output_type": "stream",
     "text": [
      "Hello World!\n"
     ]
    }
   ],
   "source": [
    "def void_fn(param): # 定义无返回函数\n",
    "    print(param)\n",
    "    pass # 可省略\n",
    "\n",
    "void_fn('Hello World!') # 调用函数"
   ]
  },
  {
   "attachments": {},
   "cell_type": "markdown",
   "metadata": {},
   "source": [
    "### 有返回值"
   ]
  },
  {
   "cell_type": "code",
   "execution_count": 31,
   "metadata": {},
   "outputs": [
    {
     "name": "stdout",
     "output_type": "stream",
     "text": [
      "4\n",
      "27\n",
      "256\n"
     ]
    }
   ],
   "source": [
    "def pow(num):\n",
    "    return num ** num\n",
    "\n",
    "print(pow(2)) # 2^2\n",
    "print(pow(3))\n",
    "print(pow(pow(2))) # (2^2)^(2^2)"
   ]
  },
  {
   "attachments": {},
   "cell_type": "markdown",
   "metadata": {},
   "source": [
    "> 使用星号*来定义一个可变长度的参数，在函数内部会将这些参数组合成一个元组来进行处理。"
   ]
  },
  {
   "cell_type": "code",
   "execution_count": 32,
   "metadata": {},
   "outputs": [
    {
     "name": "stdout",
     "output_type": "stream",
     "text": [
      "0\n",
      "1\n",
      "2\n",
      "3\n",
      "4\n"
     ]
    }
   ],
   "source": [
    "def infinite_param(*args):\n",
    "    for arg in args:\n",
    "        print(arg)\n",
    "\n",
    "infinite_param(*range(5))"
   ]
  },
  {
   "attachments": {},
   "cell_type": "markdown",
   "metadata": {},
   "source": [
    "> 使用两个星号**来定义一个接收关键字参数的参数，在函数内部会将这些参数组合成一个字典来进行处理。"
   ]
  },
  {
   "cell_type": "code",
   "execution_count": 33,
   "metadata": {},
   "outputs": [
    {
     "name": "stdout",
     "output_type": "stream",
     "text": [
      "dict_items([('a', 3), ('b', 2), ('c', 1)])\n",
      "key: a; val: 3\n",
      "key: b; val: 2\n",
      "key: c; val: 1\n"
     ]
    }
   ],
   "source": [
    "def key_word_param(**kwargs):\n",
    "    print(kwargs.items())\n",
    "    for key, val in kwargs.items():\n",
    "        print(f'key: {key}; val: {val}')\n",
    "\n",
    "key_word_param(a=3, b=2, c=1)"
   ]
  },
  {
   "attachments": {},
   "cell_type": "markdown",
   "metadata": {},
   "source": [
    "## 数据类型"
   ]
  },
  {
   "attachments": {},
   "cell_type": "markdown",
   "metadata": {},
   "source": [
    "### 数组"
   ]
  },
  {
   "cell_type": "code",
   "execution_count": 66,
   "metadata": {},
   "outputs": [
    {
     "name": "stdout",
     "output_type": "stream",
     "text": [
      "数组长度:  4\n",
      "数组末尾追加值:  [1, 2, 3, 4, [5]]\n",
      "拼接数组:  [0, 1, 2, 3, 4, [5]]\n",
      "切片数组:  [0, 1, 2, 3, 4]\n",
      "切片数组[2:]:  [2, 3, 4]\n",
      "切片数组[:2]:  [0, 1]\n",
      "已删除的最后一个值:  4 \n",
      "之后的数组:  [0, 1, 2, 3]\n",
      "[0, 1, 2, 3, 5, 5, 5]\n",
      "数组中包含5的数量:  3\n",
      "数组中出现的第一个5的索引值:  4\n",
      "拼接一维数组:  [0, 1, 2, 3, 5, 5, 5, 'a', 'b', 'c']\n",
      "清空数组:  []\n"
     ]
    }
   ],
   "source": [
    "# 定义数组，可以类型混放\n",
    "array = ['1', 2, 3, 4]\n",
    "array[0] = 1\n",
    "\n",
    "print('数组长度: ', len(array))\n",
    "\n",
    "array.append([5]) # 在数组末尾追加值\n",
    "print('数组末尾追加值: ', array) # [1, 2, 3, 4, 5]\n",
    "\n",
    "array = [0] + array # 可以直接拼接两个数组\n",
    "print('拼接数组: ', array) # [0, 1, 2, 3, 4, 5]\n",
    "\n",
    "array = array[0:5] # 切片数组 [开始: 结束-1]\n",
    "print('切片数组: ', array) # [0, 1, 2, 3, 4]\n",
    "print('切片数组[2:]: ', array[2:]) # [2, 3, 4]\n",
    "print('切片数组[:2]: ', array[:2]) # [0, 1]\n",
    "\n",
    "print('已删除的最后一个值: ', array.pop(),'\\n之后的数组: ', array) # 4 [0, 1, 2, 3]\n",
    "array = array + [5, 5, 5]\n",
    "\n",
    "print(array) # [0, 1, 2, 3, 5, 5, 5]\n",
    "print('数组中包含5的数量: ', array.count(5)) # 3\n",
    "print('数组中出现的第一个5的索引值: ', array.index(5)) # 4\n",
    "\n",
    "array.extend(['a', 'b', 'c']) # 拼接一维数组\n",
    "print('拼接一维数组: ', array) # [0, 1, 2, 3, 5, 5, 5, 'a', 'b', 'c']\n",
    "\n",
    "array.clear() # 清空数组\n",
    "print('清空数组: ', array) # []"
   ]
  },
  {
   "attachments": {},
   "cell_type": "markdown",
   "metadata": {},
   "source": [
    "### 字典（类似json）"
   ]
  },
  {
   "cell_type": "code",
   "execution_count": 35,
   "metadata": {},
   "outputs": [
    {
     "name": "stdout",
     "output_type": "stream",
     "text": [
      "张三\n",
      "drinking\n",
      "['murdering people']\n"
     ]
    }
   ],
   "source": [
    "dict = {\n",
    "    'name': '张三',\n",
    "    'age': 8,\n",
    "    'hobby': ['eating', 'drinking', 'sleeping'],\n",
    "    'friend': [{\n",
    "            'name': '李四',\n",
    "            'age': 7,\n",
    "            'hobby': ['murdering people'],\n",
    "        },\n",
    "        {\n",
    "            'name': '王五',\n",
    "            'age': 9,\n",
    "            'hobby': ['jerk off']\n",
    "        }\n",
    "    ]\n",
    "}\n",
    "\n",
    "# print(dict)\n",
    "# 读取指定路径的值\n",
    "# 错误的：dict.name ；正确的：dict['name']\n",
    "print(dict['name'])\n",
    "print(dict['hobby'][1])\n",
    "print(dict['friend'][0]['hobby'])"
   ]
  },
  {
   "attachments": {},
   "cell_type": "markdown",
   "metadata": {},
   "source": [
    "#### 其它内置语法"
   ]
  },
  {
   "cell_type": "code",
   "execution_count": 36,
   "metadata": {},
   "outputs": [
    {
     "name": "stdout",
     "output_type": "stream",
     "text": [
      "True\n",
      "False\n",
      "False\n",
      "True\n",
      "True\n",
      "{'b': 1}\n",
      "{'b': False, 'c': True, 'd': {'e': 1}}\n",
      "dict_keys(['b', 'c', 'd'])\n",
      "dict_values([False, True, {'e': 1}])\n",
      "dict_items([('b', False), ('c', True), ('d', {'e': 1})])\n"
     ]
    }
   ],
   "source": [
    "a = {\n",
    "    'b': 1,\n",
    "    'c': {\n",
    "        'd': {\n",
    "            'e': ''\n",
    "        }\n",
    "    }\n",
    "}\n",
    "\n",
    "# key in dict 判断 dict 的当前层是否含有键key\n",
    "print('c' in a) # True\n",
    "print('d' in a) # False\n",
    "print('e' in a) # False\n",
    "print('d' in a['c']) # True\n",
    "print('e' in a['c']['d']) # True\n",
    "\n",
    "# 删除元素\n",
    "del a['c']\n",
    "print(a) # {'b': 1}\n",
    "\n",
    "# 创建、修改key值\n",
    "a['c'] = True\n",
    "a['b'] = False\n",
    "a['d'] = {\n",
    "    'e': 1\n",
    "}\n",
    "print(a) # {'b': False, 'c': True, 'd': {'e': 1}}\n",
    "\n",
    "# 适用于遍历的函数，返回相关数组\n",
    "print(a.keys()) # ['b', 'c', 'd']\n",
    "print(a.values()) # [False, True, {'e': 1}]\n",
    "print(a.items()) # [('b', False), ('c', True), ('d', {'e': 1})]"
   ]
  },
  {
   "attachments": {},
   "cell_type": "markdown",
   "metadata": {},
   "source": [
    "### 元祖（不可变序列）"
   ]
  },
  {
   "cell_type": "code",
   "execution_count": 37,
   "metadata": {},
   "outputs": [
    {
     "name": "stdout",
     "output_type": "stream",
     "text": [
      "元祖长度为:  3\n",
      "拼接后的元祖:  (1, 2, 3, 4, 5, 6)\n",
      "tup * 2:  (1, 2, 3, 1, 2, 3)\n",
      "(tup,) * 2:  ((1, 2, 3), (1, 2, 3))\n"
     ]
    }
   ],
   "source": [
    "# 定义元祖，类似于数组，但用圆括号\"()\"表示\n",
    "tup = (1, 2, 3)\n",
    "print('元祖长度为: ', len(tup))\n",
    "print('拼接后的元祖: ', tup + (4, 5, 6))\n",
    "print('tup * 2: ', tup * 2)\n",
    "print('(tup,) * 2: ', (tup,) * 2)"
   ]
  },
  {
   "attachments": {},
   "cell_type": "markdown",
   "metadata": {},
   "source": [
    "#### 其它内置函数\n",
    "> 与数组类似"
   ]
  },
  {
   "cell_type": "code",
   "execution_count": 38,
   "metadata": {},
   "outputs": [
    {
     "name": "stdout",
     "output_type": "stream",
     "text": [
      "元祖中3出现的次数:  2\n",
      "元祖中第一个4出现的索引:  3\n",
      "元祖长度:  7\n",
      "元祖中的最大值:  4\n",
      "元祖中的最小值:  1\n",
      "元祖内元素的总和:  16\n",
      "(1, 3, 2, 4)\n"
     ]
    }
   ],
   "source": [
    "# 返回元组中指定元素item出现的次数。\n",
    "tup = (1, 2, 3, 4, 3, 2, 1)\n",
    "print('元祖中3出现的次数: ', tup.count(3))  # 输出：2\n",
    "\n",
    "# 返回元组中指定元素item的第一个出现的索引值。\n",
    "print('元祖中第一个4出现的索引: ', tup.index(4))  # 输出：3\n",
    "\n",
    "# 返回元组中元素的个数。\n",
    "print('元祖长度: ', len(tup))  # 输出：7\n",
    "\n",
    "# 返回元组中最大的元素。\n",
    "print('元祖中的最大值: ', max(tup))  # 输出：4\n",
    "\n",
    "# 返回元组中最小的元素。\n",
    "print('元祖中的最小值: ', min(tup))  # 输出：1\n",
    "\n",
    "# 返回元组中元素的总和。\n",
    "print('元祖内元素的总和: ', sum(tup)) # 输出：16\n",
    "\n",
    "# 将列表转换为元组。\n",
    "lst = [1, 3, 2, 4]\n",
    "new_tup = tuple(lst)\n",
    "print(new_tup)  # 输出：(1, 3, 2, 4)"
   ]
  },
  {
   "attachments": {},
   "cell_type": "markdown",
   "metadata": {},
   "source": [
    "## 循环\n",
    "### for"
   ]
  },
  {
   "cell_type": "code",
   "execution_count": 39,
   "metadata": {},
   "outputs": [
    {
     "name": "stdout",
     "output_type": "stream",
     "text": [
      "0\n",
      "1\n",
      "2\n",
      "3\n",
      "4\n",
      "---done---\n",
      "a\n",
      "b\n",
      "c\n",
      "---done---\n",
      "a\n",
      "b\n",
      "c\n",
      "---done---\n"
     ]
    }
   ],
   "source": [
    "for i in range(5):\n",
    "    print(i)\n",
    "print('---done---')\n",
    "\n",
    "# range(5) 等同于 range(len(0, 1, 2, 3, 4))\n",
    "\n",
    "# 通过索引遍历数组\n",
    "arr = ['a', 'b', 'c']\n",
    "for i in range(len(arr)):\n",
    "    print(arr[i])\n",
    "print('---done---')\n",
    "\n",
    "# 直接遍历数组元素\n",
    "for elem in arr:\n",
    "    print(elem)\n",
    "print('---done---')"
   ]
  },
  {
   "cell_type": "code",
   "execution_count": 55,
   "metadata": {},
   "outputs": [
    {
     "name": "stdout",
     "output_type": "stream",
     "text": [
      "0: a;\n",
      "1: b;\n",
      "2: c;\n"
     ]
    }
   ],
   "source": [
    "# 类似js中的: arr.forEach((e, i) => {})\n",
    "for i, e in enumerate(['a', 'b', 'c']):\n",
    "    print(i, e, sep=': ', end=';\\n')"
   ]
  },
  {
   "cell_type": "code",
   "execution_count": 61,
   "metadata": {},
   "outputs": [
    {
     "name": "stdout",
     "output_type": "stream",
     "text": [
      "a 1\n",
      "b 2\n",
      "a 1\n",
      "b 2\n",
      "a\n",
      "b\n",
      "1\n",
      "2\n"
     ]
    }
   ],
   "source": [
    "arr_1 = ['a', 'b']\n",
    "arr_2 = [1, 2]\n",
    "for name, age in zip(arr_1,  arr_2):\n",
    "    print(name, age)\n",
    "\n",
    "obj = {\n",
    "    'a': 1,\n",
    "    'b': 2\n",
    "}\n",
    "for key, value in obj.items():\n",
    "    print(key, value)\n",
    "\n",
    "for key in obj.keys():\n",
    "    print(key)\n",
    "for val in obj.values():\n",
    "    print(val)"
   ]
  },
  {
   "cell_type": "code",
   "execution_count": 62,
   "metadata": {},
   "outputs": [
    {
     "name": "stdout",
     "output_type": "stream",
     "text": [
      "[1, 4, 9, 16, 25]\n"
     ]
    }
   ],
   "source": [
    "# 列表推导式\n",
    "\n",
    "numbers = [1, 2, 3, 4, 5]\n",
    "squared_numbers = [x**2 for x in numbers]\n",
    "print(squared_numbers)"
   ]
  },
  {
   "attachments": {},
   "cell_type": "markdown",
   "metadata": {},
   "source": [
    "### while\n",
    "> 相对于 for循环 来说，while 循环更容易因为逻辑不当导致死循环"
   ]
  },
  {
   "cell_type": "code",
   "execution_count": 40,
   "metadata": {},
   "outputs": [
    {
     "name": "stdout",
     "output_type": "stream",
     "text": [
      "a\n",
      "b\n",
      "c\n",
      "---done---\n"
     ]
    }
   ],
   "source": [
    "count = 0\n",
    "while count < len(arr):\n",
    "    print(arr[count])\n",
    "    count += 1\n",
    "print('---done---')\n"
   ]
  },
  {
   "attachments": {},
   "cell_type": "markdown",
   "metadata": {},
   "source": [
    "## 类"
   ]
  },
  {
   "cell_type": "code",
   "execution_count": 41,
   "metadata": {},
   "outputs": [
    {
     "name": "stdout",
     "output_type": "stream",
     "text": [
      "Hello, my name is John and I am 28 years old.\n",
      "Hello, my name is John and I am 29 years old.\n",
      "Hello, my name is John and I am 30 years old.\n"
     ]
    }
   ],
   "source": [
    "class Person:\n",
    "    def __init__(self, name, age):\n",
    "        self.name = name\n",
    "        self.age = age\n",
    "    \n",
    "    def greet(self):\n",
    "        print(\"Hello, my name is\", self.name, \"and I am\", self.age, \"years old.\")\n",
    "    \n",
    "    def increment_age(self):\n",
    "        self.age += 1\n",
    "\n",
    "# 实例化一个Person对象\n",
    "john = Person(\"John\", 28)\n",
    "\n",
    "# 调用对象的方法\n",
    "john.greet() # 输出: Hello, my name is John and I am 28 years old.\n",
    "\n",
    "# 修改对象的属性\n",
    "john.age = 29\n",
    "john.greet() # 输出: Hello, my name is John and I am 29 years old.\n",
    "\n",
    "# 调用对象的方法来修改属性\n",
    "john.increment_age()\n",
    "john.greet() # 输出: Hello, my name is John and I am 30 years old."
   ]
  },
  {
   "attachments": {},
   "cell_type": "markdown",
   "metadata": {},
   "source": [
    "## 引入模块"
   ]
  },
  {
   "attachments": {},
   "cell_type": "markdown",
   "metadata": {},
   "source": [
    "一些第三方模块需要手动安装，\n",
    "可以使用pip（python 3.0 开始，安装python默认配置了全局pip）命令安装这些模块\n",
    "```pip\n",
    "pip install 模块名 [参数]\n",
    "```"
   ]
  },
  {
   "cell_type": "code",
   "execution_count": 42,
   "metadata": {},
   "outputs": [
    {
     "data": {
      "image/png": "[encoded data removed]",
      "text/plain": [
       "<Figure size 640x480 with 1 Axes>"
      ]
     },
     "metadata": {},
     "output_type": "display_data"
    }
   ],
   "source": [
    "#  引入模块后的 as xxx 可以省略，相当于将引入的模块赋值到的变量xxx上\n",
    "import matplotlib.pyplot as plt # 等同于 from matplotlib import pyplot as plt\n",
    "import numpy as np\n",
    "\n",
    "a = np.zeros([3,2])\n",
    "step = 0\n",
    "\n",
    "for i in range(len(a)):\n",
    "    for j in range(len(a[i])):\n",
    "        a[i][j] = step\n",
    "        # python只能+=自增，无法使用++代替\n",
    "        step += 1\n",
    "plt.figure()\n",
    "plt.imshow(a, interpolation=\"nearest\")\n",
    "plt.show()"
   ]
  },
  {
   "attachments": {},
   "cell_type": "markdown",
   "metadata": {},
   "source": [
    "## 操作文件\n",
    "### 读写文件"
   ]
  },
  {
   "attachments": {},
   "cell_type": "markdown",
   "metadata": {},
   "source": [
    "```python\n",
    "file = open('example.txt', 'r')\n",
    "content = file.read()\n",
    "file.close()\n",
    "```\n",
    "等同于\n",
    "```python\n",
    "with open('example.txt', 'r') as file:\n",
    "    content = file.read()\n",
    "```\n",
    "推荐使用 `with` 语法以防止忘记手动close带来的麻烦"
   ]
  },
  {
   "cell_type": "code",
   "execution_count": 43,
   "metadata": {},
   "outputs": [
    {
     "name": "stdout",
     "output_type": "stream",
     "text": [
      "read:  this is a test\n",
      "1\n",
      "2\n",
      "3\n",
      "readline:  this is a test\n",
      "\n",
      "readline:  1\n",
      "\n",
      "readline:  2\n",
      "\n",
      "readlines:  ['this is a test\\n', '1\\n', '2\\n', '3']\n"
     ]
    }
   ],
   "source": [
    "import os\n",
    "\n",
    "dir = {\n",
    "    'path': 'example',\n",
    "    'file': 'example/test.txt'\n",
    "}\n",
    "text = 'this is a test'\n",
    "arr = ['1', '2', '3']\n",
    "\n",
    "for i in range(len(arr)):\n",
    "    arr[i] = '\\n' + arr[i]\n",
    "\n",
    "\n",
    "os.makedirs(dir['path'], exist_ok=True) # 递归创建目录，exist_ok=True 表示如果文件夹已存在，则忽略创建操作\n",
    "with open(dir['file'], 'w+') as file:\n",
    "    file.write(text)\n",
    "    file.writelines(arr) # 用于将多个字符串写入文件。它接受一个可迭代对象（例如列表、元组等）作为参数\n",
    "    file.seek(0)  # 将文件指针重新定位到文件开头\n",
    "    print('read: ', file.read())\n",
    "    file.seek(0)\n",
    "    print('readline: ', file.readline())\n",
    "    print('readline: ', file.readline())\n",
    "    print('readline: ', file.readline())\n",
    "    file.seek(0)\n",
    "    print('readlines: ', file.readlines())\n"
   ]
  },
  {
   "attachments": {},
   "cell_type": "markdown",
   "metadata": {},
   "source": [
    "#### 读写模式\n",
    "\n",
    "| 模式 | 描述 |\n",
    "|------|------|\n",
    "| 'r'  | 读取模式（默认），表示文件只能读取，文件指针位于文件开头 |\n",
    "| 'w'  | 写入模式，表示文件只能写入，如果文件已存在，会将其覆盖；如果文件不存在，会创建新文件 |\n",
    "| 'x'  | 独占创建模式，表示只能创建新文件，如果文件已存在则会报错 |\n",
    "| 'a'  | 追加模式，表示文件只能写入，文件指针位于文件末尾；如果文件不存在，会创建新文件 |\n",
    "| 'b'  | 二进制模式，将文件以二进制格式进行读写 |\n",
    "| 't'  | 文本模式，将文件以文本格式进行读写 |\n",
    "| '+'  | 读写模式，表示文件既可以读取也可以写入 |\n",
    "\n",
    "使用时可以将这些模式组合，例如 'rb' 表示以二进制模式打开文件并以只读方式操作。\n",
    "\n",
    "### 删除文件"
   ]
  },
  {
   "cell_type": "code",
   "execution_count": 44,
   "metadata": {},
   "outputs": [],
   "source": [
    "import shutil\n",
    "\n",
    "# os.remove(dir['file']) # 删除文件\n",
    "# os.rmdir('example') 仅能删除空文件夹\n",
    "shutil.rmtree(dir['path']) # 递归删除文件夹及内部文件"
   ]
  }
 ],
 "metadata": {
  "kernelspec": {
   "display_name": "Python 3",
   "language": "python",
   "name": "python3"
  },
  "language_info": {
   "codemirror_mode": {
    "name": "ipython",
    "version": 3
   },
   "file_extension": ".py",
   "mimetype": "text/x-python",
   "name": "python",
   "nbconvert_exporter": "python",
   "pygments_lexer": "ipython3",
   "version": "3.9.5"
  },
  "orig_nbformat": 4
 },
 "nbformat": 4,
 "nbformat_minor": 2
}
