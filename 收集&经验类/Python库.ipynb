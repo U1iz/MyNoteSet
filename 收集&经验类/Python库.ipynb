{
 "cells": [
  {
   "attachments": {},
   "cell_type": "markdown",
   "metadata": {},
   "source": [
    "# Python库"
   ]
  },
  {
   "attachments": {},
   "cell_type": "markdown",
   "metadata": {},
   "source": [
    "## OS"
   ]
  },
  {
   "cell_type": "code",
   "execution_count": 6,
   "metadata": {},
   "outputs": [
    {
     "name": "stdout",
     "output_type": "stream",
     "text": [
      "c:/home/user/documents\n",
      "file.txt\n",
      "\n",
      "c:\\Files\\Project\\git\\笔记集合\\书籍笔记\\Python神经网络编程\\mnist_dataset\\mini\\mnist_test_10.csv\n",
      "c:\\Files\\Project\\git\\笔记集合\\收集&经验类\n",
      "路径是绝对路径\n",
      "\\a\\c\\d\n"
     ]
    }
   ],
   "source": [
    "import os\n",
    "\n",
    "path = 'c:/home/user/documents/file.txt'\n",
    "\n",
    "# 提取出父级目录\n",
    "root_dir = os.path.dirname(path)\n",
    "print(root_dir)\n",
    "\n",
    "# 提取出最后一层目录（或文件名）\n",
    "last_dir = os.path.basename(path)\n",
    "print(last_dir)\n",
    "\n",
    "current = os.path.dirname(os.path.dirname('__dir__'))\n",
    "print(current)\n",
    "\n",
    "# 获取当前文件的目录路径\n",
    "current_path = os.path.abspath('.././书籍笔记/Python神经网络编程/mnist_dataset/mini/mnist_test_10.csv')\n",
    "print(current_path)\n",
    "\n",
    "current_dir = os.path.dirname(os.path.abspath('__file__'))\n",
    "\n",
    "print(current_dir)\n",
    "\n",
    "\n",
    "path = \"/path/to/file.txt\"\n",
    "if os.path.isabs(path):\n",
    "    print(\"路径是绝对路径\")\n",
    "else:\n",
    "    print(\"路径不是绝对路径\")\n",
    "\n",
    "# 合并路径\n",
    "path1 = '/a/b/'\n",
    "path2 = '../c'\n",
    "path3 = './d'\n",
    "\n",
    "combined_path = os.path.normpath(os.path.join(path1, path2, path3))\n",
    "print(combined_path)"
   ]
  }
 ],
 "metadata": {
  "kernelspec": {
   "display_name": "Python 3",
   "language": "python",
   "name": "python3"
  },
  "language_info": {
   "codemirror_mode": {
    "name": "ipython",
    "version": 3
   },
   "file_extension": ".py",
   "mimetype": "text/x-python",
   "name": "python",
   "nbconvert_exporter": "python",
   "pygments_lexer": "ipython3",
   "version": "3.9.5"
  },
  "orig_nbformat": 4
 },
 "nbformat": 4,
 "nbformat_minor": 2
}
