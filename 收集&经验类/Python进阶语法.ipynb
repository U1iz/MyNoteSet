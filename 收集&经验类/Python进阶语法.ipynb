{
 "cells": [
  {
   "attachments": {},
   "cell_type": "markdown",
   "metadata": {},
   "source": [
    "# Python进阶语法\n",
    "\n",
    "## 自动补零"
   ]
  },
  {
   "cell_type": "code",
   "execution_count": 24,
   "metadata": {},
   "outputs": [
    {
     "name": "stdout",
     "output_type": "stream",
     "text": [
      "01\n",
      "001\n"
     ]
    }
   ],
   "source": [
    "print('1'.zfill(2))\n",
    "print('1'.zfill(3))"
   ]
  },
  {
   "attachments": {},
   "cell_type": "markdown",
   "metadata": {},
   "source": [
    "## 数组转字符串"
   ]
  },
  {
   "cell_type": "code",
   "execution_count": 25,
   "metadata": {},
   "outputs": [
    {
     "name": "stdout",
     "output_type": "stream",
     "text": [
      "[0, 1, 2]\n"
     ]
    },
    {
     "data": {
      "text/plain": [
       "'1, 2, 3'"
      ]
     },
     "execution_count": 25,
     "metadata": {},
     "output_type": "execute_result"
    }
   ],
   "source": [
    "arr = [0, 1, 2]\n",
    "# [0, 1, 2] -> '[0, 1, 2]'\n",
    "print(str(arr))\n",
    "# [0, 1, 2] -> '0, 1, 2'\n",
    "# [1,2,3].join(', ') # 错误的\n",
    "# 正确的\n",
    "', '.join(str(elem) for elem in [1, 2, 3])"
   ]
  },
  {
   "attachments": {},
   "cell_type": "markdown",
   "metadata": {},
   "source": [
    "## 内置哈希算法\n",
    "> 不同的Python解释器，计算的哈希值可能不同"
   ]
  },
  {
   "cell_type": "code",
   "execution_count": 26,
   "metadata": {},
   "outputs": [
    {
     "data": {
      "text/plain": [
       "-7899587860340905948"
      ]
     },
     "execution_count": 26,
     "metadata": {},
     "output_type": "execute_result"
    }
   ],
   "source": [
    "hash('hello world')"
   ]
  },
  {
   "attachments": {},
   "cell_type": "markdown",
   "metadata": {},
   "source": [
    "## 判断变量是否定义"
   ]
  },
  {
   "cell_type": "code",
   "execution_count": 27,
   "metadata": {},
   "outputs": [
    {
     "name": "stdout",
     "output_type": "stream",
     "text": [
      "x is defined.\n",
      "y is defined.\n"
     ]
    }
   ],
   "source": [
    "def check_variable_defined(var_name):\n",
    "    # 可以使用globals()和locals()函数来判断一个变量是否已经定义。\n",
    "    # 这两个函数返回一个字典，其中包含了全局和局部命名空间中的变量。\n",
    "    # 可以通过判断变量名是否在这两个字典中来确定一个变量是否定义。\n",
    "    if var_name in globals() or var_name in locals():\n",
    "        print(f\"{var_name} is defined.\")\n",
    "    else:\n",
    "        print(f\"{var_name} is not defined.\")\n",
    "\n",
    "x = 10\n",
    "check_variable_defined(\"x\")  # x is defined.\n",
    "\n",
    "check_variable_defined(\"y\")  # y is not defined."
   ]
  },
  {
   "attachments": {},
   "cell_type": "markdown",
   "metadata": {},
   "source": [
    "\n",
    "----\n",
    "\n",
    "\n",
    "# 类似js的语法"
   ]
  },
  {
   "attachments": {},
   "cell_type": "markdown",
   "metadata": {},
   "source": [
    "## 三元表达式\n",
    "> 类似于js: bool ? true : false; bool ?? false"
   ]
  },
  {
   "cell_type": "code",
   "execution_count": 29,
   "metadata": {},
   "outputs": [
    {
     "name": "stdout",
     "output_type": "stream",
     "text": [
      "False\n"
     ]
    }
   ],
   "source": [
    "x = 5\n",
    "\n",
    "result = True if x >= 10 else False\n",
    "\n",
    "print(result)"
   ]
  },
  {
   "attachments": {},
   "cell_type": "markdown",
   "metadata": {},
   "source": [
    "## f-string\n",
    "> Python 3.6版本及以上支持的新特性\n",
    ">\n",
    "> 类似于 js 中的 \\`${变量&语句}`"
   ]
  },
  {
   "cell_type": "code",
   "execution_count": 30,
   "metadata": {},
   "outputs": [
    {
     "name": "stdout",
     "output_type": "stream",
     "text": [
      "10 + 20 = 30\n",
      "圆周率保留两位小数的值为: 3.14\n"
     ]
    }
   ],
   "source": [
    "# 使用f-string插入变量\n",
    "x = 10\n",
    "y = 20\n",
    "print(f\"{x} + {y} = {x + y}\")  # 10 + 20 = 30\n",
    "\n",
    "# 使用表达式进行格式化\n",
    "pi = 3.1415926\n",
    "print(f\"圆周率保留两位小数的值为: {pi:.2f}\")  # 圆周率保留两位小数的值为.14"
   ]
  },
  {
   "attachments": {},
   "cell_type": "markdown",
   "metadata": {},
   "source": [
    "## 解构赋值"
   ]
  },
  {
   "cell_type": "code",
   "execution_count": 34,
   "metadata": {},
   "outputs": [
    {
     "name": "stdout",
     "output_type": "stream",
     "text": [
      "1 2 3\n",
      "4 5 6\n",
      "7 8 9\n"
     ]
    }
   ],
   "source": [
    "a, b, c = [1, 2, 3]\n",
    "print(a, b, c)\n",
    "a, b, c = (4, 5, 6)\n",
    "print(a, b, c)\n",
    "a, b, c = 7, 8, 9\n",
    "print(a, b, c)"
   ]
  },
  {
   "attachments": {},
   "cell_type": "markdown",
   "metadata": {},
   "source": [
    "## 箭头函数\n",
    "> 类似于js中的: add = (a, b) => a + b"
   ]
  },
  {
   "cell_type": "code",
   "execution_count": 36,
   "metadata": {},
   "outputs": [
    {
     "name": "stdout",
     "output_type": "stream",
     "text": [
      "3\n",
      "1\n"
     ]
    }
   ],
   "source": [
    "# add = (a, b) => a + b\n",
    "add = lambda a, b: a + b\n",
    "\n",
    "print(add(1, 2)) # 3\n",
    "\n",
    "\n",
    "def fn(call):\n",
    "    call(1)\n",
    "\n",
    "fn(lambda x: print(x)) # 1"
   ]
  },
  {
   "attachments": {},
   "cell_type": "markdown",
   "metadata": {},
   "source": [
    "## 扩展运算符\n",
    "> 类似于js中的: ..."
   ]
  },
  {
   "cell_type": "code",
   "execution_count": 35,
   "metadata": {},
   "outputs": [
    {
     "name": "stdout",
     "output_type": "stream",
     "text": [
      "1 2 3 4\n",
      "[1, 2, 3, 4, 5, 6]\n"
     ]
    }
   ],
   "source": [
    "a = [1, 2, 3, 4]\n",
    "print(*a)\n",
    "\n",
    "arr_1 = [1, 2, 3]\n",
    "arr_2 = [4, 5, 6]\n",
    "combined = [*arr_1, *arr_2]\n",
    "print(combined)"
   ]
  }
 ],
 "metadata": {
  "kernelspec": {
   "display_name": "Python 3",
   "language": "python",
   "name": "python3"
  },
  "language_info": {
   "codemirror_mode": {
    "name": "ipython",
    "version": 3
   },
   "file_extension": ".py",
   "mimetype": "text/x-python",
   "name": "python",
   "nbconvert_exporter": "python",
   "pygments_lexer": "ipython3",
   "version": "3.9.5"
  },
  "orig_nbformat": 4
 },
 "nbformat": 4,
 "nbformat_minor": 2
}
