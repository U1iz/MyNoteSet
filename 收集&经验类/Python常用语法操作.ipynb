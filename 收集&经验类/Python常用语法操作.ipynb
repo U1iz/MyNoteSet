{
 "cells": [
  {
   "cell_type": "code",
   "execution_count": 1,
   "metadata": {},
   "outputs": [
    {
     "name": "stdout",
     "output_type": "stream",
     "text": [
      "{'a': 3, 'b': 2, 'd': 4}\n"
     ]
    }
   ],
   "source": [
    "# 对象初始化\n",
    "def fn(obj):\n",
    "    init = {\n",
    "        'a': 1,\n",
    "        'b': 2\n",
    "    }\n",
    "\n",
    "    for key in obj.keys():\n",
    "        init[key] = obj[key]\n",
    "\n",
    "    print(init)\n",
    "\n",
    "\n",
    "fn({\n",
    "    'a': 3,\n",
    "    'd': 4\n",
    "})"
   ]
  }
 ],
 "metadata": {
  "kernelspec": {
   "display_name": "Python 3",
   "language": "python",
   "name": "python3"
  },
  "language_info": {
   "codemirror_mode": {
    "name": "ipython",
    "version": 3
   },
   "file_extension": ".py",
   "mimetype": "text/x-python",
   "name": "python",
   "nbconvert_exporter": "python",
   "pygments_lexer": "ipython3",
   "version": "3.9.5"
  },
  "orig_nbformat": 4
 },
 "nbformat": 4,
 "nbformat_minor": 2
}
